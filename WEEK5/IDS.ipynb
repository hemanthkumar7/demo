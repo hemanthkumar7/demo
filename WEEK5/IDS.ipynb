{
 "cells": [
  {
   "cell_type": "code",
   "execution_count": 9,
   "metadata": {},
   "outputs": [
    {
     "name": "stdin",
     "output_type": "stream",
     "text": [
      "Enter the number of vertices:  2\n"
     ]
    },
    {
     "name": "stdout",
     "output_type": "stream",
     "text": [
      "Enter the connecting vertices and -1 to stop\n"
     ]
    },
    {
     "name": "stdin",
     "output_type": "stream",
     "text": [
      "add edge between:  0 1\n",
      "add edge between:  1 0\n",
      "add edge between:  -1 -1\n",
      "Enter the target to search:  1\n",
      "Enter the maximum depth:  1\n"
     ]
    },
    {
     "name": "stdout",
     "output_type": "stream",
     "text": [
      "Target is NOT reachable from source within max depth\n"
     ]
    }
   ],
   "source": [
    "from collections import defaultdict\n",
    "\n",
    "class Graph:\n",
    "\n",
    "    def __init__(self, vertices):\n",
    "        self.V = vertices\n",
    "        self.graph = defaultdict(list)\n",
    "\n",
    "    def addEdge(self, u, v):\n",
    "        self.graph[u].append(v)\n",
    "\n",
    "    def DLS(self, src, target, maxDepth):\n",
    "\n",
    "        if src == target: return True\n",
    "\n",
    "        if maxDepth <= 0: return False\n",
    "\n",
    "        for i in self.graph[src]:\n",
    "            if (self.DLS(i, target, maxDepth - 1)):\n",
    "                return True\n",
    "        return False\n",
    "\n",
    "    def IDDFS(self, src, target, maxDepth):\n",
    "        for i in range(maxDepth):\n",
    "            if (self.DLS(src, target, i)):\n",
    "                return True\n",
    "        return False\n",
    "\n",
    "\n",
    "n = int(input(\"Enter the number of vertices: \"))\n",
    "g = Graph(n);\n",
    "e1 = 1\n",
    "print(\"Enter the connecting vertices and -1 to stop\")\n",
    "while e1 != -1:\n",
    "    e1, e2 = input(\"add edge between: \").split()\n",
    "    e1 = int(e1)\n",
    "    e2 = int(e2)\n",
    "    if e1 == -1:\n",
    "        break\n",
    "    g.addEdge(e1, e2)\n",
    "\n",
    "target = int(input(\"Enter the target to search: \"))\n",
    "maxDepth = int(input(\"Enter the maximum depth: \"))\n",
    "src = 0\n",
    "\n",
    "if g.IDDFS(src, target, maxDepth) == True:\n",
    "    print(\"Target is reachable from source \" +\n",
    "          \"within max depth\")\n",
    "else:\n",
    "    print(\"Target is NOT reachable from source \" +\n",
    "          \"within max depth\")\n"
   ]
  },
  {
   "cell_type": "code",
   "execution_count": null,
   "metadata": {},
   "outputs": [],
   "source": []
  }
 ],
 "metadata": {
  "kernelspec": {
   "display_name": "Python 3",
   "language": "python",
   "name": "python3"
  },
  "language_info": {
   "codemirror_mode": {
    "name": "ipython",
    "version": 3
   },
   "file_extension": ".py",
   "mimetype": "text/x-python",
   "name": "python",
   "nbconvert_exporter": "python",
   "pygments_lexer": "ipython3",
   "version": "3.8.3"
  }
 },
 "nbformat": 4,
 "nbformat_minor": 4
}
